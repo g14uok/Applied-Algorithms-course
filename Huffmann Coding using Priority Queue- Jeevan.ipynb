{
 "cells": [
  {
   "cell_type": "markdown",
   "metadata": {},
   "source": [
    "# Huffmann Coding using Priority Queue- Jeevan"
   ]
  },
  {
   "cell_type": "markdown",
   "metadata": {},
   "source": [
    "Importing required libraries"
   ]
  },
  {
   "cell_type": "code",
   "execution_count": 19,
   "metadata": {
    "collapsed": true
   },
   "outputs": [],
   "source": [
    "import heapq\n",
    "import codecs"
   ]
  },
  {
   "cell_type": "markdown",
   "metadata": {},
   "source": [
    "Storing each character in a dictionary"
   ]
  },
  {
   "cell_type": "code",
   "execution_count": 2,
   "metadata": {
    "collapsed": true
   },
   "outputs": [],
   "source": [
    "d={}\n",
    "f= codecs.open(\"P&P.txt\", encoding= 'utf-8')\n",
    "\n",
    "for line in f:\n",
    "    for ch in line:\n",
    "        ch=ch.lower()\n",
    "        if ch in d:\n",
    "            d[ch] = d[ch]+1\n",
    "        else:\n",
    "            d[ch] =1"
   ]
  },
  {
   "cell_type": "code",
   "execution_count": 4,
   "metadata": {},
   "outputs": [
    {
     "data": {
      "text/plain": [
       "{'\\n': 13427,\n",
       " '\\r': 13427,\n",
       " ' ': 113941,\n",
       " '!': 500,\n",
       " '#': 1,\n",
       " '$': 2,\n",
       " '%': 1,\n",
       " '(': 38,\n",
       " ')': 38,\n",
       " '*': 58,\n",
       " ',': 9280,\n",
       " '-': 1196,\n",
       " '.': 6396,\n",
       " '/': 26,\n",
       " '0': 28,\n",
       " '1': 83,\n",
       " '2': 33,\n",
       " '3': 33,\n",
       " '4': 30,\n",
       " '5': 29,\n",
       " '6': 19,\n",
       " '7': 13,\n",
       " '8': 19,\n",
       " '9': 17,\n",
       " ':': 155,\n",
       " ';': 1538,\n",
       " '?': 462,\n",
       " '@': 2,\n",
       " '[': 1,\n",
       " ']': 1,\n",
       " '_': 808,\n",
       " 'a': 42694,\n",
       " 'b': 9363,\n",
       " 'c': 14064,\n",
       " 'd': 22844,\n",
       " 'e': 71201,\n",
       " 'f': 12384,\n",
       " 'g': 10444,\n",
       " 'h': 34583,\n",
       " 'i': 38947,\n",
       " 'j': 970,\n",
       " 'k': 3342,\n",
       " 'l': 22070,\n",
       " 'm': 15124,\n",
       " 'n': 38724,\n",
       " 'o': 41380,\n",
       " 'p': 8683,\n",
       " 'q': 638,\n",
       " 'r': 33470,\n",
       " 's': 33870,\n",
       " 't': 48161,\n",
       " 'u': 15509,\n",
       " 'v': 5840,\n",
       " 'w': 12573,\n",
       " 'x': 867,\n",
       " 'y': 13032,\n",
       " 'z': 938,\n",
       " '‘': 25,\n",
       " '’': 723,\n",
       " '“': 1802,\n",
       " '”': 1751,\n",
       " '\\ufeff': 1}"
      ]
     },
     "execution_count": 4,
     "metadata": {},
     "output_type": "execute_result"
    }
   ],
   "source": [
    "d"
   ]
  },
  {
   "cell_type": "code",
   "execution_count": 5,
   "metadata": {
    "collapsed": true
   },
   "outputs": [],
   "source": [
    "L = []        \n",
    "for i in range(ord('a'), ord('z')+1):\n",
    "    L.append(chr(i))"
   ]
  },
  {
   "cell_type": "code",
   "execution_count": 20,
   "metadata": {
    "collapsed": true
   },
   "outputs": [],
   "source": [
    "a=[\" \",\":\",\",\",\"!\",\"?\",\"'\"]# It seemes that \"apostrophe\" is not used in the novel\n"
   ]
  },
  {
   "cell_type": "markdown",
   "metadata": {},
   "source": [
    "We use only 31 elements in our final dictionary"
   ]
  },
  {
   "cell_type": "code",
   "execution_count": 21,
   "metadata": {
    "collapsed": true
   },
   "outputs": [],
   "source": [
    "for i in a:\n",
    "    if i in d.keys():\n",
    "        L.append(i)"
   ]
  },
  {
   "cell_type": "markdown",
   "metadata": {},
   "source": [
    "Filtering only required 31 characters in a dictionary"
   ]
  },
  {
   "cell_type": "code",
   "execution_count": 8,
   "metadata": {
    "collapsed": true
   },
   "outputs": [],
   "source": [
    "C={}\n",
    "for i in L:\n",
    "    C[i]=d[i]"
   ]
  },
  {
   "cell_type": "code",
   "execution_count": 9,
   "metadata": {},
   "outputs": [
    {
     "data": {
      "text/plain": [
       "{' ': 113941,\n",
       " '!': 500,\n",
       " ',': 9280,\n",
       " ':': 155,\n",
       " '?': 462,\n",
       " 'a': 42694,\n",
       " 'b': 9363,\n",
       " 'c': 14064,\n",
       " 'd': 22844,\n",
       " 'e': 71201,\n",
       " 'f': 12384,\n",
       " 'g': 10444,\n",
       " 'h': 34583,\n",
       " 'i': 38947,\n",
       " 'j': 970,\n",
       " 'k': 3342,\n",
       " 'l': 22070,\n",
       " 'm': 15124,\n",
       " 'n': 38724,\n",
       " 'o': 41380,\n",
       " 'p': 8683,\n",
       " 'q': 638,\n",
       " 'r': 33470,\n",
       " 's': 33870,\n",
       " 't': 48161,\n",
       " 'u': 15509,\n",
       " 'v': 5840,\n",
       " 'w': 12573,\n",
       " 'x': 867,\n",
       " 'y': 13032,\n",
       " 'z': 938}"
      ]
     },
     "execution_count": 9,
     "metadata": {},
     "output_type": "execute_result"
    }
   ],
   "source": [
    "C\n"
   ]
  },
  {
   "cell_type": "markdown",
   "metadata": {},
   "source": [
    "Writing a function for Huffmann coding using Priority Queue library of Python"
   ]
  },
  {
   "cell_type": "code",
   "execution_count": 10,
   "metadata": {
    "collapsed": true
   },
   "outputs": [],
   "source": [
    "\n",
    "def Huffman_coding(C):\n",
    "    \n",
    "    Huffman_Heap = [[f,[c, '']] for c,f in C.items()]\n",
    "    heapq.heapify(Huffman_Heap) \n",
    "    while len(Huffman_Heap) > 1:\n",
    "        left_child = heapq.heappop(Huffman_Heap)\n",
    "        right_child = heapq.heappop(Huffman_Heap)\n",
    "     \n",
    "        for x in left_child[1:] :\n",
    "            x[1] = x[1] + '0'\n",
    "        for x in right_child[1:] :\n",
    "            x[1] = x[1] + '1'\n",
    "        heapq.heappush(Huffman_Heap,[left_child[0]+ right_child[0]] + left_child[1:] + right_child[1:])\n",
    "         \n",
    "\n",
    "    return heapq.heappop(Huffman_Heap)[1:]"
   ]
  },
  {
   "cell_type": "code",
   "execution_count": 11,
   "metadata": {
    "collapsed": true
   },
   "outputs": [],
   "source": [
    "\n",
    "Huffman_Tree = Huffman_coding(C)"
   ]
  },
  {
   "cell_type": "code",
   "execution_count": 12,
   "metadata": {},
   "outputs": [
    {
     "name": "stdout",
     "output_type": "stream",
     "text": [
      "[['r', '0000'], ['u', '01000'], ['p', '011000'], [',', '111000'], ['s', '0100'], ['h', '1100'], ['e', '010'], ['n', '0110'], ['i', '1110'], ['o', '0001'], ['b', '001001'], ['g', '101001'], ['l', '11001'], ['a', '0101'], ['d', '01101'], ['f', '011101'], ['w', '111101'], ['t', '0011'], ['y', '001011'], ['v', '0101011'], ['k', '01101011'], ['z', '0011101011'], ['j', '1011101011'], ['!', '00111101011'], [':', '010111101011'], ['?', '110111101011'], ['q', '01111101011'], ['x', '11111101011'], ['c', '011011'], ['m', '111011'], [' ', '111']]\n"
     ]
    }
   ],
   "source": [
    "print(Huffman_Tree)\n"
   ]
  },
  {
   "cell_type": "code",
   "execution_count": 13,
   "metadata": {
    "collapsed": true
   },
   "outputs": [],
   "source": [
    "HB=0\n",
    "SB=0"
   ]
  },
  {
   "cell_type": "code",
   "execution_count": 14,
   "metadata": {
    "collapsed": true
   },
   "outputs": [],
   "source": [
    "for i in Huffman_Tree:\n",
    "    HB=HB+(len(i[1])*C[i[0]])\n",
    "    SB=SB+(5*C[i[0]])"
   ]
  },
  {
   "cell_type": "code",
   "execution_count": 15,
   "metadata": {},
   "outputs": [
    {
     "name": "stdout",
     "output_type": "stream",
     "text": [
      "2850694\n"
     ]
    }
   ],
   "source": [
    "print(HB)#total no. of bits used in Huffmann coding"
   ]
  },
  {
   "cell_type": "code",
   "execution_count": 22,
   "metadata": {},
   "outputs": [
    {
     "name": "stdout",
     "output_type": "stream",
     "text": [
      "3380265\n"
     ]
    }
   ],
   "source": [
    "print(SB)#total no. of bits used in Standard coding(2^5 for 31 characters so 5 bits per each character)"
   ]
  },
  {
   "cell_type": "code",
   "execution_count": 17,
   "metadata": {},
   "outputs": [
    {
     "name": "stdout",
     "output_type": "stream",
     "text": [
      "529571\n"
     ]
    }
   ],
   "source": [
    "print(SB-HB)#no. of bits saved"
   ]
  },
  {
   "cell_type": "code",
   "execution_count": 23,
   "metadata": {},
   "outputs": [
    {
     "name": "stdout",
     "output_type": "stream",
     "text": [
      "84.33344722972903\n"
     ]
    }
   ],
   "source": [
    "print(100*HB/SB)# percentage of compression"
   ]
  },
  {
   "cell_type": "code",
   "execution_count": null,
   "metadata": {
    "collapsed": true
   },
   "outputs": [],
   "source": []
  }
 ],
 "metadata": {
  "kernelspec": {
   "display_name": "Python 3",
   "language": "python",
   "name": "python3"
  },
  "language_info": {
   "codemirror_mode": {
    "name": "ipython",
    "version": 3
   },
   "file_extension": ".py",
   "mimetype": "text/x-python",
   "name": "python",
   "nbconvert_exporter": "python",
   "pygments_lexer": "ipython3",
   "version": "3.5.4"
  }
 },
 "nbformat": 4,
 "nbformat_minor": 2
}

{
 "cells": [
  {
   "cell_type": "markdown",
   "metadata": {},
   "source": [
    "# Insertion sort vs Bubble sort for Non-Increasing Inputs"
   ]
  },
  {
   "cell_type": "markdown",
   "metadata": {},
   "source": [
    "Importing necessary libraries"
   ]
  },
  {
   "cell_type": "code",
   "execution_count": 1,
   "metadata": {
    "collapsed": true
   },
   "outputs": [],
   "source": [
    "import numpy as np\n",
    "import matplotlib.pyplot as plt\n",
    "import timeit"
   ]
  },
  {
   "cell_type": "markdown",
   "metadata": {},
   "source": [
    "Insertion sort "
   ]
  },
  {
   "cell_type": "code",
   "execution_count": 5,
   "metadata": {
    "collapsed": true
   },
   "outputs": [],
   "source": [
    "def insertion(s):\n",
    "    start = timeit.default_timer()\n",
    "    for i in range(1, len(s)):\n",
    "        val=s[i]\n",
    "        j=i-1\n",
    "        while (j>=0) and (s[j]>val):\n",
    "            s[j+1]=s[j]\n",
    "            j=j-1\n",
    "        s[j+1]=val\n",
    "    stop = timeit.default_timer()\n",
    "    return stop-start"
   ]
  },
  {
   "cell_type": "markdown",
   "metadata": {},
   "source": [
    "Bubble sort"
   ]
  },
  {
   "cell_type": "code",
   "execution_count": 3,
   "metadata": {
    "collapsed": true
   },
   "outputs": [],
   "source": [
    "def bubble(s):\n",
    "    start = timeit.default_timer()\n",
    "    for i in range(len(s),0,-1):\n",
    "        for j in range(i-1):\n",
    "            if s[j]>s[j+1]:\n",
    "                key=s[j+1]\n",
    "                s[j+1]=s[j]\n",
    "                s[j]=key\n",
    "    stop = timeit.default_timer()\n",
    "    return stop-start"
   ]
  },
  {
   "cell_type": "code",
   "execution_count": 4,
   "metadata": {
    "collapsed": true
   },
   "outputs": [],
   "source": [
    "C=[]\n",
    "B=[]\n",
    "D=[]\n",
    "for i in range(2001,25000,2000):\n",
    "    np.random.seed(0)\n",
    "    Z=np.random.randint(low=1,high=i,size=i)\n",
    "    P=np.sort(Z,kind='heapsort')\n",
    "    A=np.flipud(P)\n",
    "    D.append(i)\n",
    "    B.append(bubble(A))\n",
    "    C.append(insertion(A))"
   ]
  },
  {
   "cell_type": "code",
   "execution_count": 8,
   "metadata": {},
   "outputs": [
    {
     "data": {
      "image/png": "[encoded data removed]",
      "text/plain": [
       "<matplotlib.figure.Figure at 0x17c866d8978>"
      ]
     },
     "metadata": {},
     "output_type": "display_data"
    }
   ],
   "source": [
    "plt.plot(D,C)\n",
    "plt.plot(D,B)\n",
    "\n",
    "plt.legend([\"Insertion Sort\",\"Bubble Sort\"])\n",
    "plt.xlabel(\"Input Size(Number of Elements\")\n",
    "plt.ylabel(\"Time(Seconds)\")\n",
    "plt.title(\"Insertion Sort vs Bubble sort(Non-Increasing Inputs)\")\n",
    "plt.show()"
   ]
  },
  {
   "cell_type": "code",
   "execution_count": null,
   "metadata": {
    "collapsed": true
   },
   "outputs": [],
   "source": []
  }
 ],
 "metadata": {
  "kernelspec": {
   "display_name": "Python 3",
   "language": "python",
   "name": "python3"
  },
  "language_info": {
   "codemirror_mode": {
    "name": "ipython",
    "version": 3
   },
   "file_extension": ".py",
   "mimetype": "text/x-python",
   "name": "python",
   "nbconvert_exporter": "python",
   "pygments_lexer": "ipython3",
   "version": "3.5.4"
  }
 },
 "nbformat": 4,
 "nbformat_minor": 2
}

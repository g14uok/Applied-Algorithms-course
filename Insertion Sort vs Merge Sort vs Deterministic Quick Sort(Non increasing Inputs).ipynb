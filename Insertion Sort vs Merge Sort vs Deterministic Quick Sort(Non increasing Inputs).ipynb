{
 "cells": [
  {
   "cell_type": "markdown",
   "metadata": {},
   "source": [
    "# Insertion Sort vs Merge Sort vs Deterministic Quick Sort(Non increasing Inputs)"
   ]
  },
  {
   "cell_type": "markdown",
   "metadata": {},
   "source": [
    "Importing required libraries"
   ]
  },
  {
   "cell_type": "code",
   "execution_count": 2,
   "metadata": {
    "collapsed": true
   },
   "outputs": [],
   "source": [
    "import numpy as np\n",
    "import matplotlib.pyplot as plt\n",
    "import timeit\n",
    "import math\n",
    "import sys"
   ]
  },
  {
   "cell_type": "markdown",
   "metadata": {},
   "source": [
    "Setting the recursive limits"
   ]
  },
  {
   "cell_type": "code",
   "execution_count": 3,
   "metadata": {
    "collapsed": true
   },
   "outputs": [],
   "source": [
    "sys.setrecursionlimit(20000)"
   ]
  },
  {
   "cell_type": "markdown",
   "metadata": {},
   "source": [
    "Insertion Sort function"
   ]
  },
  {
   "cell_type": "code",
   "execution_count": 6,
   "metadata": {
    "collapsed": true
   },
   "outputs": [],
   "source": [
    "def insertion(A):#insertion sort function\n",
    "    start = timeit.default_timer()\n",
    "\n",
    "    for i in range(1, len(A)):\n",
    "        val=A[i]\n",
    "        j=i-1\n",
    "        while (j>=0) and (A[j]>val):\n",
    "            A[j+1] = A[j]\n",
    "            j=j-1\n",
    "        S[j+1]=val\n",
    "    stop = timeit.default_timer()\n",
    "    return stop-start"
   ]
  },
  {
   "cell_type": "markdown",
   "metadata": {},
   "source": [
    "Merge Sort function"
   ]
  },
  {
   "cell_type": "code",
   "execution_count": 7,
   "metadata": {
    "collapsed": true
   },
   "outputs": [],
   "source": [
    "def mergesort(A,p,r):\n",
    "    start = timeit.default_timer()\n",
    "    if p<r:\n",
    "        q=math.floor((p+r)/2)\n",
    "        mergesort(A,p,q)\n",
    "        mergesort(A,q+1,r)\n",
    "        Merge(A,p,q,r)\n",
    "    stop = timeit.default_timer()\n",
    "    return stop-start"
   ]
  },
  {
   "cell_type": "code",
   "execution_count": 8,
   "metadata": {
    "collapsed": true
   },
   "outputs": [],
   "source": [
    "def Merge(A,p,q,r):\n",
    "    n1=q-p\n",
    "    n2=r-q\n",
    "\n",
    "    L=[A[p+i] for i in range(n1+1)]\n",
    "    R=[A[q+i] for i in range(1,n2+1)]\n",
    "    L.append(30000)\n",
    "    R.append(30000)\n",
    "    i=0\n",
    "    j=0\n",
    "    for k in range(p,r+1):\n",
    "        if L[i]<R[j]:\n",
    "            A[k]=L[i]\n",
    "            i=i+1\n",
    "        else:\n",
    "            A[k]=R[j]\n",
    "            j=j+1"
   ]
  },
  {
   "cell_type": "markdown",
   "metadata": {},
   "source": [
    "Deterministic quicksort with last element as pivot"
   ]
  },
  {
   "cell_type": "code",
   "execution_count": 9,
   "metadata": {
    "collapsed": true
   },
   "outputs": [],
   "source": [
    "def dquicksort(A,p,r):\n",
    "    start = timeit.default_timer()\n",
    "    if p<r:\n",
    "        q=partition(A,p,r)\n",
    "        dquicksort(A,p,q-1)\n",
    "        dquicksort(A,q+1,r)\n",
    "    stop = timeit.default_timer()\n",
    "    return stop-start\n",
    "\n",
    "def partition(A,p,r):\n",
    "    x=A[r]\n",
    "    i=p-1\n",
    "    for j in range(p,r):\n",
    "        if (A[j]< x) or (A[j]==x):\n",
    "            i=i+1\n",
    "            f=A[i]\n",
    "            A[i]=A[j]\n",
    "            A[j]=f\n",
    "    t=A[i+1]\n",
    "    A[i+1]=A[r]\n",
    "    A[r]=t\n",
    "    return i+1"
   ]
  },
  {
   "cell_type": "code",
   "execution_count": 10,
   "metadata": {},
   "outputs": [],
   "source": [
    "I=[]\n",
    "M=[]\n",
    "Q=[]\n",
    "D=[]\n",
    "for i in range(100,600,100):\n",
    "    np.random.seed(0)#to get controlled random output\n",
    "    Z=np.random.randint(low=1,high=i,size=i)#to get random integers in given interval;\n",
    "    P=np.sort(Z, kind='heapsort')#sorting elements in ascending order\n",
    "    S=np.flipud(P)#reversing the ascending elements i.e, now elements are in descending order\n",
    "    D.append(i)\n",
    "    I.append(insertion(S))\n",
    "    M.append(mergesort(S,0,len(S)-1))\n",
    "    Q.append(dquicksort(S,0,len(S)-1))"
   ]
  },
  {
   "cell_type": "code",
   "execution_count": 11,
   "metadata": {},
   "outputs": [
    {
     "data": {
      "image/png": "[encoded data removed]",
      "text/plain": [
       "<matplotlib.figure.Figure at 0x20802117e48>"
      ]
     },
     "metadata": {},
     "output_type": "display_data"
    }
   ],
   "source": [
    "plt.plot(D,I)\n",
    "plt.plot(D,M)\n",
    "plt.plot(D,Q)\n",
    "plt.legend([\"Insertion Sort\",\"Merge Sort\",\"Quick Sort\"])\n",
    "plt.xlabel(\"Input Size\")\n",
    "plt.ylabel(\"Time\")\n",
    "plt.title(\"Insertion Sort vs Merge Sort vs Quick Sort(Non increasing Inputs)\")\n",
    "plt.show()"
   ]
  },
  {
   "cell_type": "code",
   "execution_count": null,
   "metadata": {
    "collapsed": true
   },
   "outputs": [],
   "source": []
  }
 ],
 "metadata": {
  "kernelspec": {
   "display_name": "Python 3",
   "language": "python",
   "name": "python3"
  },
  "language_info": {
   "codemirror_mode": {
    "name": "ipython",
    "version": 3
   },
   "file_extension": ".py",
   "mimetype": "text/x-python",
   "name": "python",
   "nbconvert_exporter": "python",
   "pygments_lexer": "ipython3",
   "version": "3.5.4"
  }
 },
 "nbformat": 4,
 "nbformat_minor": 2
}
